{
 "cells": [
  {
   "cell_type": "code",
   "execution_count": 1,
   "metadata": {
    "collapsed": true
   },
   "outputs": [],
   "source": [
    "#!/usr/bin/python3 -B\n",
    "\n",
    "import numpy as np\n",
    "import pandas as pd\n",
    "from sklearn import preprocessing\n",
    "from sklearn.model_selection import GridSearchCV\n",
    "import lightgbm as lgb\n",
    "from scipy.stats import mode"
   ]
  },
  {
   "cell_type": "code",
   "execution_count": 84,
   "metadata": {
    "collapsed": true
   },
   "outputs": [],
   "source": [
    "from sklearn.metrics import mean_squared_error"
   ]
  },
  {
   "cell_type": "code",
   "execution_count": 2,
   "metadata": {
    "collapsed": true
   },
   "outputs": [],
   "source": [
    "# Data wrangling brought to you by the1owl\n",
    "# https://www.kaggle.com/the1owl/surprise-me\n",
    "\n",
    "data = {\n",
    "    'tra':\n",
    "    pd.read_csv('../input/air_visit_data.csv'),\n",
    "    'as':\n",
    "    pd.read_csv('../input/air_store_info.csv'),\n",
    "    'hs':\n",
    "    pd.read_csv('../input/hpg_store_info.csv'),\n",
    "    'ar':\n",
    "    pd.read_csv('../input/air_reserve.csv'),\n",
    "    'hr':\n",
    "    pd.read_csv('../input/hpg_reserve.csv'),\n",
    "    'id':\n",
    "    pd.read_csv('../input/store_id_relation.csv'),\n",
    "    'tes':\n",
    "    pd.read_csv('../input/sample_submission.csv'),\n",
    "    'hol':\n",
    "    pd.read_csv('../input/date_info.csv').rename(columns={\n",
    "        'calendar_date': 'visit_date'\n",
    "    })\n",
    "}"
   ]
  },
  {
   "cell_type": "code",
   "execution_count": 3,
   "metadata": {
    "collapsed": true
   },
   "outputs": [],
   "source": [
    "data['hr'] = pd.merge(data['hr'], data['id'], how='inner', on=['hpg_store_id'])"
   ]
  },
  {
   "cell_type": "code",
   "execution_count": 4,
   "metadata": {},
   "outputs": [
    {
     "name": "stdout",
     "output_type": "stream",
     "text": [
      "           air_store_id  visit_date  reserve_datetime_diff  reserve_visitors\n",
      "0  air_00a91d42b08b08d9  2016-10-31                      0                 2\n",
      "1  air_00a91d42b08b08d9  2016-12-05                      4                 9\n",
      "2  air_00a91d42b08b08d9  2016-12-14                      6                18\n",
      "3  air_00a91d42b08b08d9  2016-12-17                      6                 2\n",
      "4  air_00a91d42b08b08d9  2016-12-20                      2                 4\n",
      "           air_store_id  visit_date  reserve_datetime_diff  reserve_visitors\n",
      "0  air_00a91d42b08b08d9  2016-01-14                      3                 2\n",
      "1  air_00a91d42b08b08d9  2016-01-15                      6                 4\n",
      "2  air_00a91d42b08b08d9  2016-01-16                      3                 2\n",
      "3  air_00a91d42b08b08d9  2016-01-22                      3                 2\n",
      "4  air_00a91d42b08b08d9  2016-01-29                      6                 5\n"
     ]
    }
   ],
   "source": [
    "for df in ['ar', 'hr']:\n",
    "    data[df]['visit_datetime'] = pd.to_datetime(data[df]['visit_datetime'])\n",
    "    data[df]['visit_datetime'] = data[df]['visit_datetime'].dt.date\n",
    "    data[df]['reserve_datetime'] = pd.to_datetime(data[df]['reserve_datetime'])\n",
    "    data[df]['reserve_datetime'] = data[df]['reserve_datetime'].dt.date\n",
    "    data[df]['reserve_datetime_diff'] = data[df].apply(\n",
    "        lambda r: (r['visit_datetime'] - r['reserve_datetime']).days, axis=1)\n",
    "    data[df] = data[df].groupby(\n",
    "        ['air_store_id', 'visit_datetime'], as_index=False)[[\n",
    "            'reserve_datetime_diff', 'reserve_visitors'\n",
    "        ]].sum().rename(columns={\n",
    "            'visit_datetime': 'visit_date'\n",
    "        })\n",
    "    print(data[df].head())"
   ]
  },
  {
   "cell_type": "code",
   "execution_count": 5,
   "metadata": {
    "collapsed": true
   },
   "outputs": [],
   "source": [
    "data['tra']['visit_date'] = pd.to_datetime(data['tra']['visit_date'])"
   ]
  },
  {
   "cell_type": "code",
   "execution_count": 6,
   "metadata": {
    "collapsed": true
   },
   "outputs": [],
   "source": [
    "data['tra']['day'] = data['tra']['visit_date'].dt.day\n",
    "data['tra']['dow'] = data['tra']['visit_date'].dt.dayofweek\n",
    "data['tra']['year'] = data['tra']['visit_date'].dt.year\n",
    "data['tra']['month'] = data['tra']['visit_date'].dt.month\n",
    "data['tra']['visit_date'] = data['tra']['visit_date'].dt.date"
   ]
  },
  {
   "cell_type": "code",
   "execution_count": 7,
   "metadata": {},
   "outputs": [
    {
     "data": {
      "text/html": [
       "<div>\n",
       "<style scoped>\n",
       "    .dataframe tbody tr th:only-of-type {\n",
       "        vertical-align: middle;\n",
       "    }\n",
       "\n",
       "    .dataframe tbody tr th {\n",
       "        vertical-align: top;\n",
       "    }\n",
       "\n",
       "    .dataframe thead th {\n",
       "        text-align: right;\n",
       "    }\n",
       "</style>\n",
       "<table border=\"1\" class=\"dataframe\">\n",
       "  <thead>\n",
       "    <tr style=\"text-align: right;\">\n",
       "      <th></th>\n",
       "      <th>air_store_id</th>\n",
       "      <th>visit_date</th>\n",
       "      <th>visitors</th>\n",
       "      <th>day</th>\n",
       "      <th>dow</th>\n",
       "      <th>year</th>\n",
       "      <th>month</th>\n",
       "    </tr>\n",
       "  </thead>\n",
       "  <tbody>\n",
       "    <tr>\n",
       "      <th>0</th>\n",
       "      <td>air_ba937bf13d40fb24</td>\n",
       "      <td>2016-01-13</td>\n",
       "      <td>25</td>\n",
       "      <td>13</td>\n",
       "      <td>2</td>\n",
       "      <td>2016</td>\n",
       "      <td>1</td>\n",
       "    </tr>\n",
       "    <tr>\n",
       "      <th>1</th>\n",
       "      <td>air_ba937bf13d40fb24</td>\n",
       "      <td>2016-01-14</td>\n",
       "      <td>32</td>\n",
       "      <td>14</td>\n",
       "      <td>3</td>\n",
       "      <td>2016</td>\n",
       "      <td>1</td>\n",
       "    </tr>\n",
       "    <tr>\n",
       "      <th>2</th>\n",
       "      <td>air_ba937bf13d40fb24</td>\n",
       "      <td>2016-01-15</td>\n",
       "      <td>29</td>\n",
       "      <td>15</td>\n",
       "      <td>4</td>\n",
       "      <td>2016</td>\n",
       "      <td>1</td>\n",
       "    </tr>\n",
       "    <tr>\n",
       "      <th>3</th>\n",
       "      <td>air_ba937bf13d40fb24</td>\n",
       "      <td>2016-01-16</td>\n",
       "      <td>22</td>\n",
       "      <td>16</td>\n",
       "      <td>5</td>\n",
       "      <td>2016</td>\n",
       "      <td>1</td>\n",
       "    </tr>\n",
       "    <tr>\n",
       "      <th>4</th>\n",
       "      <td>air_ba937bf13d40fb24</td>\n",
       "      <td>2016-01-18</td>\n",
       "      <td>6</td>\n",
       "      <td>18</td>\n",
       "      <td>0</td>\n",
       "      <td>2016</td>\n",
       "      <td>1</td>\n",
       "    </tr>\n",
       "    <tr>\n",
       "      <th>5</th>\n",
       "      <td>air_ba937bf13d40fb24</td>\n",
       "      <td>2016-01-19</td>\n",
       "      <td>9</td>\n",
       "      <td>19</td>\n",
       "      <td>1</td>\n",
       "      <td>2016</td>\n",
       "      <td>1</td>\n",
       "    </tr>\n",
       "    <tr>\n",
       "      <th>6</th>\n",
       "      <td>air_ba937bf13d40fb24</td>\n",
       "      <td>2016-01-20</td>\n",
       "      <td>31</td>\n",
       "      <td>20</td>\n",
       "      <td>2</td>\n",
       "      <td>2016</td>\n",
       "      <td>1</td>\n",
       "    </tr>\n",
       "    <tr>\n",
       "      <th>7</th>\n",
       "      <td>air_ba937bf13d40fb24</td>\n",
       "      <td>2016-01-21</td>\n",
       "      <td>21</td>\n",
       "      <td>21</td>\n",
       "      <td>3</td>\n",
       "      <td>2016</td>\n",
       "      <td>1</td>\n",
       "    </tr>\n",
       "    <tr>\n",
       "      <th>8</th>\n",
       "      <td>air_ba937bf13d40fb24</td>\n",
       "      <td>2016-01-22</td>\n",
       "      <td>18</td>\n",
       "      <td>22</td>\n",
       "      <td>4</td>\n",
       "      <td>2016</td>\n",
       "      <td>1</td>\n",
       "    </tr>\n",
       "    <tr>\n",
       "      <th>9</th>\n",
       "      <td>air_ba937bf13d40fb24</td>\n",
       "      <td>2016-01-23</td>\n",
       "      <td>26</td>\n",
       "      <td>23</td>\n",
       "      <td>5</td>\n",
       "      <td>2016</td>\n",
       "      <td>1</td>\n",
       "    </tr>\n",
       "  </tbody>\n",
       "</table>\n",
       "</div>"
      ],
      "text/plain": [
       "           air_store_id  visit_date  visitors  day  dow  year  month\n",
       "0  air_ba937bf13d40fb24  2016-01-13        25   13    2  2016      1\n",
       "1  air_ba937bf13d40fb24  2016-01-14        32   14    3  2016      1\n",
       "2  air_ba937bf13d40fb24  2016-01-15        29   15    4  2016      1\n",
       "3  air_ba937bf13d40fb24  2016-01-16        22   16    5  2016      1\n",
       "4  air_ba937bf13d40fb24  2016-01-18         6   18    0  2016      1\n",
       "5  air_ba937bf13d40fb24  2016-01-19         9   19    1  2016      1\n",
       "6  air_ba937bf13d40fb24  2016-01-20        31   20    2  2016      1\n",
       "7  air_ba937bf13d40fb24  2016-01-21        21   21    3  2016      1\n",
       "8  air_ba937bf13d40fb24  2016-01-22        18   22    4  2016      1\n",
       "9  air_ba937bf13d40fb24  2016-01-23        26   23    5  2016      1"
      ]
     },
     "execution_count": 7,
     "metadata": {},
     "output_type": "execute_result"
    }
   ],
   "source": [
    "data['tra'].head(10)"
   ]
  },
  {
   "cell_type": "code",
   "execution_count": 8,
   "metadata": {
    "collapsed": true
   },
   "outputs": [],
   "source": [
    "data['tes']['visit_date'] = data['tes']['id'].map(\n",
    "    lambda x: str(x).split('_')[2])\n",
    "data['tes']['air_store_id'] = data['tes']['id'].map(\n",
    "    lambda x: '_'.join(x.split('_')[:2]))"
   ]
  },
  {
   "cell_type": "code",
   "execution_count": 10,
   "metadata": {
    "collapsed": true
   },
   "outputs": [],
   "source": [
    "data['tes']['visit_date'] = pd.to_datetime(data['tes']['visit_date'])\n",
    "data['tes']['day'] = data['tes']['visit_date'].dt.day\n",
    "data['tes']['dow'] = data['tes']['visit_date'].dt.dayofweek\n",
    "data['tes']['year'] = data['tes']['visit_date'].dt.year\n",
    "data['tes']['month'] = data['tes']['visit_date'].dt.month\n",
    "data['tes']['visit_date'] = data['tes']['visit_date'].dt.date"
   ]
  },
  {
   "cell_type": "code",
   "execution_count": 11,
   "metadata": {},
   "outputs": [
    {
     "data": {
      "text/html": [
       "<div>\n",
       "<style scoped>\n",
       "    .dataframe tbody tr th:only-of-type {\n",
       "        vertical-align: middle;\n",
       "    }\n",
       "\n",
       "    .dataframe tbody tr th {\n",
       "        vertical-align: top;\n",
       "    }\n",
       "\n",
       "    .dataframe thead th {\n",
       "        text-align: right;\n",
       "    }\n",
       "</style>\n",
       "<table border=\"1\" class=\"dataframe\">\n",
       "  <thead>\n",
       "    <tr style=\"text-align: right;\">\n",
       "      <th></th>\n",
       "      <th>id</th>\n",
       "      <th>visitors</th>\n",
       "      <th>visit_date</th>\n",
       "      <th>air_store_id</th>\n",
       "      <th>day</th>\n",
       "      <th>dow</th>\n",
       "      <th>year</th>\n",
       "      <th>month</th>\n",
       "    </tr>\n",
       "  </thead>\n",
       "  <tbody>\n",
       "    <tr>\n",
       "      <th>0</th>\n",
       "      <td>air_00a91d42b08b08d9_2017-04-23</td>\n",
       "      <td>0</td>\n",
       "      <td>2017-04-23</td>\n",
       "      <td>air_00a91d42b08b08d9</td>\n",
       "      <td>23</td>\n",
       "      <td>6</td>\n",
       "      <td>2017</td>\n",
       "      <td>4</td>\n",
       "    </tr>\n",
       "    <tr>\n",
       "      <th>1</th>\n",
       "      <td>air_00a91d42b08b08d9_2017-04-24</td>\n",
       "      <td>0</td>\n",
       "      <td>2017-04-24</td>\n",
       "      <td>air_00a91d42b08b08d9</td>\n",
       "      <td>24</td>\n",
       "      <td>0</td>\n",
       "      <td>2017</td>\n",
       "      <td>4</td>\n",
       "    </tr>\n",
       "    <tr>\n",
       "      <th>2</th>\n",
       "      <td>air_00a91d42b08b08d9_2017-04-25</td>\n",
       "      <td>0</td>\n",
       "      <td>2017-04-25</td>\n",
       "      <td>air_00a91d42b08b08d9</td>\n",
       "      <td>25</td>\n",
       "      <td>1</td>\n",
       "      <td>2017</td>\n",
       "      <td>4</td>\n",
       "    </tr>\n",
       "    <tr>\n",
       "      <th>3</th>\n",
       "      <td>air_00a91d42b08b08d9_2017-04-26</td>\n",
       "      <td>0</td>\n",
       "      <td>2017-04-26</td>\n",
       "      <td>air_00a91d42b08b08d9</td>\n",
       "      <td>26</td>\n",
       "      <td>2</td>\n",
       "      <td>2017</td>\n",
       "      <td>4</td>\n",
       "    </tr>\n",
       "    <tr>\n",
       "      <th>4</th>\n",
       "      <td>air_00a91d42b08b08d9_2017-04-27</td>\n",
       "      <td>0</td>\n",
       "      <td>2017-04-27</td>\n",
       "      <td>air_00a91d42b08b08d9</td>\n",
       "      <td>27</td>\n",
       "      <td>3</td>\n",
       "      <td>2017</td>\n",
       "      <td>4</td>\n",
       "    </tr>\n",
       "    <tr>\n",
       "      <th>5</th>\n",
       "      <td>air_00a91d42b08b08d9_2017-04-28</td>\n",
       "      <td>0</td>\n",
       "      <td>2017-04-28</td>\n",
       "      <td>air_00a91d42b08b08d9</td>\n",
       "      <td>28</td>\n",
       "      <td>4</td>\n",
       "      <td>2017</td>\n",
       "      <td>4</td>\n",
       "    </tr>\n",
       "    <tr>\n",
       "      <th>6</th>\n",
       "      <td>air_00a91d42b08b08d9_2017-04-29</td>\n",
       "      <td>0</td>\n",
       "      <td>2017-04-29</td>\n",
       "      <td>air_00a91d42b08b08d9</td>\n",
       "      <td>29</td>\n",
       "      <td>5</td>\n",
       "      <td>2017</td>\n",
       "      <td>4</td>\n",
       "    </tr>\n",
       "    <tr>\n",
       "      <th>7</th>\n",
       "      <td>air_00a91d42b08b08d9_2017-04-30</td>\n",
       "      <td>0</td>\n",
       "      <td>2017-04-30</td>\n",
       "      <td>air_00a91d42b08b08d9</td>\n",
       "      <td>30</td>\n",
       "      <td>6</td>\n",
       "      <td>2017</td>\n",
       "      <td>4</td>\n",
       "    </tr>\n",
       "    <tr>\n",
       "      <th>8</th>\n",
       "      <td>air_00a91d42b08b08d9_2017-05-01</td>\n",
       "      <td>0</td>\n",
       "      <td>2017-05-01</td>\n",
       "      <td>air_00a91d42b08b08d9</td>\n",
       "      <td>1</td>\n",
       "      <td>0</td>\n",
       "      <td>2017</td>\n",
       "      <td>5</td>\n",
       "    </tr>\n",
       "    <tr>\n",
       "      <th>9</th>\n",
       "      <td>air_00a91d42b08b08d9_2017-05-02</td>\n",
       "      <td>0</td>\n",
       "      <td>2017-05-02</td>\n",
       "      <td>air_00a91d42b08b08d9</td>\n",
       "      <td>2</td>\n",
       "      <td>1</td>\n",
       "      <td>2017</td>\n",
       "      <td>5</td>\n",
       "    </tr>\n",
       "  </tbody>\n",
       "</table>\n",
       "</div>"
      ],
      "text/plain": [
       "                                id  visitors  visit_date  \\\n",
       "0  air_00a91d42b08b08d9_2017-04-23         0  2017-04-23   \n",
       "1  air_00a91d42b08b08d9_2017-04-24         0  2017-04-24   \n",
       "2  air_00a91d42b08b08d9_2017-04-25         0  2017-04-25   \n",
       "3  air_00a91d42b08b08d9_2017-04-26         0  2017-04-26   \n",
       "4  air_00a91d42b08b08d9_2017-04-27         0  2017-04-27   \n",
       "5  air_00a91d42b08b08d9_2017-04-28         0  2017-04-28   \n",
       "6  air_00a91d42b08b08d9_2017-04-29         0  2017-04-29   \n",
       "7  air_00a91d42b08b08d9_2017-04-30         0  2017-04-30   \n",
       "8  air_00a91d42b08b08d9_2017-05-01         0  2017-05-01   \n",
       "9  air_00a91d42b08b08d9_2017-05-02         0  2017-05-02   \n",
       "\n",
       "           air_store_id  day  dow  year  month  \n",
       "0  air_00a91d42b08b08d9   23    6  2017      4  \n",
       "1  air_00a91d42b08b08d9   24    0  2017      4  \n",
       "2  air_00a91d42b08b08d9   25    1  2017      4  \n",
       "3  air_00a91d42b08b08d9   26    2  2017      4  \n",
       "4  air_00a91d42b08b08d9   27    3  2017      4  \n",
       "5  air_00a91d42b08b08d9   28    4  2017      4  \n",
       "6  air_00a91d42b08b08d9   29    5  2017      4  \n",
       "7  air_00a91d42b08b08d9   30    6  2017      4  \n",
       "8  air_00a91d42b08b08d9    1    0  2017      5  \n",
       "9  air_00a91d42b08b08d9    2    1  2017      5  "
      ]
     },
     "execution_count": 11,
     "metadata": {},
     "output_type": "execute_result"
    }
   ],
   "source": [
    "data['tes'].head(10)"
   ]
  },
  {
   "cell_type": "code",
   "execution_count": 12,
   "metadata": {
    "collapsed": true
   },
   "outputs": [],
   "source": [
    "unique_stores = data['tes']['air_store_id'].unique()"
   ]
  },
  {
   "cell_type": "code",
   "execution_count": 13,
   "metadata": {
    "collapsed": true
   },
   "outputs": [],
   "source": [
    "stores = pd.concat(\n",
    "    [\n",
    "        pd.DataFrame({\n",
    "            'air_store_id': unique_stores,\n",
    "            'dow': [i] * len(unique_stores)\n",
    "        }) for i in range(7)\n",
    "    ],\n",
    "    axis=0,\n",
    "    ignore_index=True).reset_index(drop=True)"
   ]
  },
  {
   "cell_type": "code",
   "execution_count": 14,
   "metadata": {
    "collapsed": true
   },
   "outputs": [],
   "source": [
    "#sure it can be compressed...\n",
    "tmp = data['tra'].groupby(\n",
    "    ['air_store_id', 'dow'],\n",
    "    as_index=False)['visitors'].min().rename(columns={\n",
    "        'visitors': 'min_visitors'\n",
    "    })\n",
    "stores = pd.merge(stores, tmp, how='left', on=['air_store_id', 'dow'])"
   ]
  },
  {
   "cell_type": "code",
   "execution_count": 15,
   "metadata": {
    "collapsed": true
   },
   "outputs": [],
   "source": [
    "tmp = data['tra'].groupby(\n",
    "    ['air_store_id', 'dow'],\n",
    "    as_index=False)['visitors'].mean().rename(columns={\n",
    "        'visitors': 'mean_visitors'\n",
    "    })\n",
    "stores = pd.merge(stores, tmp, how='left', on=['air_store_id', 'dow'])"
   ]
  },
  {
   "cell_type": "code",
   "execution_count": 16,
   "metadata": {
    "collapsed": true
   },
   "outputs": [],
   "source": [
    "tmp = data['tra'].groupby(\n",
    "    ['air_store_id', 'dow'],\n",
    "    as_index=False)['visitors'].median().rename(columns={\n",
    "        'visitors': 'median_visitors'\n",
    "    })\n",
    "stores = pd.merge(stores, tmp, how='left', on=['air_store_id', 'dow'])\n",
    "\n",
    "tmp = data['tra'].groupby(\n",
    "    ['air_store_id', 'dow'],\n",
    "    as_index=False)['visitors'].max().rename(columns={\n",
    "        'visitors': 'max_visitors'\n",
    "    })\n",
    "stores = pd.merge(stores, tmp, how='left', on=['air_store_id', 'dow'])"
   ]
  },
  {
   "cell_type": "code",
   "execution_count": 17,
   "metadata": {
    "collapsed": true
   },
   "outputs": [],
   "source": [
    "tmp = data['tra'].groupby(\n",
    "    ['air_store_id', 'dow'],\n",
    "    as_index=False)['visitors'].count().rename(columns={\n",
    "        'visitors': 'count_observations'\n",
    "    })\n",
    "\n",
    "tmp['mode_visitors'] = pd.DataFrame(\n",
    "    data['tra'].groupby(['air_store_id', 'dow'],\n",
    "    as_index=False)['visitors'].apply(lambda r: mode(r)[0][0]).values, columns=['mode_visitors'])['mode_visitors']\n",
    "\n",
    "stores = pd.merge(stores, tmp, how='left', on=['air_store_id', 'dow'])"
   ]
  },
  {
   "cell_type": "code",
   "execution_count": 19,
   "metadata": {
    "collapsed": true
   },
   "outputs": [],
   "source": [
    "stores = pd.merge(stores, data['as'], how='left', on=['air_store_id'])"
   ]
  },
  {
   "cell_type": "code",
   "execution_count": 22,
   "metadata": {
    "collapsed": true
   },
   "outputs": [],
   "source": [
    "lbl = preprocessing.LabelEncoder()\n",
    "stores['air_genre_name'] = lbl.fit_transform(stores['air_genre_name'])\n",
    "stores['air_area_name'] = lbl.fit_transform(stores['air_area_name'])"
   ]
  },
  {
   "cell_type": "code",
   "execution_count": 23,
   "metadata": {},
   "outputs": [
    {
     "data": {
      "text/html": [
       "<div>\n",
       "<style scoped>\n",
       "    .dataframe tbody tr th:only-of-type {\n",
       "        vertical-align: middle;\n",
       "    }\n",
       "\n",
       "    .dataframe tbody tr th {\n",
       "        vertical-align: top;\n",
       "    }\n",
       "\n",
       "    .dataframe thead th {\n",
       "        text-align: right;\n",
       "    }\n",
       "</style>\n",
       "<table border=\"1\" class=\"dataframe\">\n",
       "  <thead>\n",
       "    <tr style=\"text-align: right;\">\n",
       "      <th></th>\n",
       "      <th>air_store_id</th>\n",
       "      <th>dow</th>\n",
       "      <th>min_visitors</th>\n",
       "      <th>mean_visitors</th>\n",
       "      <th>median_visitors</th>\n",
       "      <th>max_visitors</th>\n",
       "      <th>count_observations</th>\n",
       "      <th>mode_visitors</th>\n",
       "      <th>air_genre_name</th>\n",
       "      <th>air_area_name</th>\n",
       "      <th>latitude</th>\n",
       "      <th>longitude</th>\n",
       "    </tr>\n",
       "  </thead>\n",
       "  <tbody>\n",
       "    <tr>\n",
       "      <th>0</th>\n",
       "      <td>air_00a91d42b08b08d9</td>\n",
       "      <td>0</td>\n",
       "      <td>1.0</td>\n",
       "      <td>22.457143</td>\n",
       "      <td>19.0</td>\n",
       "      <td>47.0</td>\n",
       "      <td>35.0</td>\n",
       "      <td>18.0</td>\n",
       "      <td>6</td>\n",
       "      <td>44</td>\n",
       "      <td>35.694003</td>\n",
       "      <td>139.753595</td>\n",
       "    </tr>\n",
       "    <tr>\n",
       "      <th>1</th>\n",
       "      <td>air_0164b9927d20bcc3</td>\n",
       "      <td>0</td>\n",
       "      <td>2.0</td>\n",
       "      <td>7.500000</td>\n",
       "      <td>6.0</td>\n",
       "      <td>19.0</td>\n",
       "      <td>20.0</td>\n",
       "      <td>2.0</td>\n",
       "      <td>6</td>\n",
       "      <td>62</td>\n",
       "      <td>35.658068</td>\n",
       "      <td>139.751599</td>\n",
       "    </tr>\n",
       "    <tr>\n",
       "      <th>2</th>\n",
       "      <td>air_0241aa3964b7f861</td>\n",
       "      <td>0</td>\n",
       "      <td>2.0</td>\n",
       "      <td>8.920635</td>\n",
       "      <td>8.0</td>\n",
       "      <td>23.0</td>\n",
       "      <td>63.0</td>\n",
       "      <td>6.0</td>\n",
       "      <td>7</td>\n",
       "      <td>82</td>\n",
       "      <td>35.712607</td>\n",
       "      <td>139.779996</td>\n",
       "    </tr>\n",
       "    <tr>\n",
       "      <th>3</th>\n",
       "      <td>air_0328696196e46f18</td>\n",
       "      <td>0</td>\n",
       "      <td>2.0</td>\n",
       "      <td>6.416667</td>\n",
       "      <td>4.0</td>\n",
       "      <td>27.0</td>\n",
       "      <td>12.0</td>\n",
       "      <td>2.0</td>\n",
       "      <td>4</td>\n",
       "      <td>98</td>\n",
       "      <td>34.701279</td>\n",
       "      <td>135.528090</td>\n",
       "    </tr>\n",
       "    <tr>\n",
       "      <th>4</th>\n",
       "      <td>air_034a3d5b40d5b1b1</td>\n",
       "      <td>0</td>\n",
       "      <td>1.0</td>\n",
       "      <td>11.864865</td>\n",
       "      <td>10.0</td>\n",
       "      <td>66.0</td>\n",
       "      <td>37.0</td>\n",
       "      <td>6.0</td>\n",
       "      <td>2</td>\n",
       "      <td>102</td>\n",
       "      <td>34.692337</td>\n",
       "      <td>135.472229</td>\n",
       "    </tr>\n",
       "    <tr>\n",
       "      <th>5</th>\n",
       "      <td>air_036d4f1ee7285390</td>\n",
       "      <td>0</td>\n",
       "      <td>4.0</td>\n",
       "      <td>19.600000</td>\n",
       "      <td>19.0</td>\n",
       "      <td>38.0</td>\n",
       "      <td>40.0</td>\n",
       "      <td>19.0</td>\n",
       "      <td>2</td>\n",
       "      <td>31</td>\n",
       "      <td>34.799767</td>\n",
       "      <td>135.360073</td>\n",
       "    </tr>\n",
       "    <tr>\n",
       "      <th>6</th>\n",
       "      <td>air_0382c794b73b51ad</td>\n",
       "      <td>0</td>\n",
       "      <td>1.0</td>\n",
       "      <td>20.795455</td>\n",
       "      <td>21.0</td>\n",
       "      <td>47.0</td>\n",
       "      <td>44.0</td>\n",
       "      <td>21.0</td>\n",
       "      <td>2</td>\n",
       "      <td>68</td>\n",
       "      <td>35.602125</td>\n",
       "      <td>139.671958</td>\n",
       "    </tr>\n",
       "    <tr>\n",
       "      <th>7</th>\n",
       "      <td>air_03963426c9312048</td>\n",
       "      <td>0</td>\n",
       "      <td>2.0</td>\n",
       "      <td>26.030303</td>\n",
       "      <td>26.0</td>\n",
       "      <td>70.0</td>\n",
       "      <td>66.0</td>\n",
       "      <td>11.0</td>\n",
       "      <td>7</td>\n",
       "      <td>15</td>\n",
       "      <td>34.386245</td>\n",
       "      <td>132.455018</td>\n",
       "    </tr>\n",
       "    <tr>\n",
       "      <th>8</th>\n",
       "      <td>air_04341b588bde96cd</td>\n",
       "      <td>0</td>\n",
       "      <td>5.0</td>\n",
       "      <td>35.417910</td>\n",
       "      <td>33.0</td>\n",
       "      <td>76.0</td>\n",
       "      <td>67.0</td>\n",
       "      <td>30.0</td>\n",
       "      <td>7</td>\n",
       "      <td>66</td>\n",
       "      <td>35.735623</td>\n",
       "      <td>139.651658</td>\n",
       "    </tr>\n",
       "    <tr>\n",
       "      <th>9</th>\n",
       "      <td>air_049f6d5b402a31b2</td>\n",
       "      <td>0</td>\n",
       "      <td>2.0</td>\n",
       "      <td>9.027778</td>\n",
       "      <td>9.0</td>\n",
       "      <td>20.0</td>\n",
       "      <td>36.0</td>\n",
       "      <td>2.0</td>\n",
       "      <td>8</td>\n",
       "      <td>0</td>\n",
       "      <td>33.589216</td>\n",
       "      <td>130.392813</td>\n",
       "    </tr>\n",
       "  </tbody>\n",
       "</table>\n",
       "</div>"
      ],
      "text/plain": [
       "           air_store_id  dow  min_visitors  mean_visitors  median_visitors  \\\n",
       "0  air_00a91d42b08b08d9    0           1.0      22.457143             19.0   \n",
       "1  air_0164b9927d20bcc3    0           2.0       7.500000              6.0   \n",
       "2  air_0241aa3964b7f861    0           2.0       8.920635              8.0   \n",
       "3  air_0328696196e46f18    0           2.0       6.416667              4.0   \n",
       "4  air_034a3d5b40d5b1b1    0           1.0      11.864865             10.0   \n",
       "5  air_036d4f1ee7285390    0           4.0      19.600000             19.0   \n",
       "6  air_0382c794b73b51ad    0           1.0      20.795455             21.0   \n",
       "7  air_03963426c9312048    0           2.0      26.030303             26.0   \n",
       "8  air_04341b588bde96cd    0           5.0      35.417910             33.0   \n",
       "9  air_049f6d5b402a31b2    0           2.0       9.027778              9.0   \n",
       "\n",
       "   max_visitors  count_observations  mode_visitors  air_genre_name  \\\n",
       "0          47.0                35.0           18.0               6   \n",
       "1          19.0                20.0            2.0               6   \n",
       "2          23.0                63.0            6.0               7   \n",
       "3          27.0                12.0            2.0               4   \n",
       "4          66.0                37.0            6.0               2   \n",
       "5          38.0                40.0           19.0               2   \n",
       "6          47.0                44.0           21.0               2   \n",
       "7          70.0                66.0           11.0               7   \n",
       "8          76.0                67.0           30.0               7   \n",
       "9          20.0                36.0            2.0               8   \n",
       "\n",
       "   air_area_name   latitude   longitude  \n",
       "0             44  35.694003  139.753595  \n",
       "1             62  35.658068  139.751599  \n",
       "2             82  35.712607  139.779996  \n",
       "3             98  34.701279  135.528090  \n",
       "4            102  34.692337  135.472229  \n",
       "5             31  34.799767  135.360073  \n",
       "6             68  35.602125  139.671958  \n",
       "7             15  34.386245  132.455018  \n",
       "8             66  35.735623  139.651658  \n",
       "9              0  33.589216  130.392813  "
      ]
     },
     "execution_count": 23,
     "metadata": {},
     "output_type": "execute_result"
    }
   ],
   "source": [
    "stores.head(10)"
   ]
  },
  {
   "cell_type": "code",
   "execution_count": 24,
   "metadata": {
    "collapsed": true
   },
   "outputs": [],
   "source": [
    "data['hol']['visit_date'] = pd.to_datetime(data['hol']['visit_date'])\n",
    "data['hol']['day_of_week'] = lbl.fit_transform(data['hol']['day_of_week'])\n",
    "data['hol']['visit_date'] = data['hol']['visit_date'].dt.date"
   ]
  },
  {
   "cell_type": "code",
   "execution_count": 25,
   "metadata": {},
   "outputs": [
    {
     "data": {
      "text/html": [
       "<div>\n",
       "<style scoped>\n",
       "    .dataframe tbody tr th:only-of-type {\n",
       "        vertical-align: middle;\n",
       "    }\n",
       "\n",
       "    .dataframe tbody tr th {\n",
       "        vertical-align: top;\n",
       "    }\n",
       "\n",
       "    .dataframe thead th {\n",
       "        text-align: right;\n",
       "    }\n",
       "</style>\n",
       "<table border=\"1\" class=\"dataframe\">\n",
       "  <thead>\n",
       "    <tr style=\"text-align: right;\">\n",
       "      <th></th>\n",
       "      <th>visit_date</th>\n",
       "      <th>day_of_week</th>\n",
       "      <th>holiday_flg</th>\n",
       "    </tr>\n",
       "  </thead>\n",
       "  <tbody>\n",
       "    <tr>\n",
       "      <th>0</th>\n",
       "      <td>2016-01-01</td>\n",
       "      <td>0</td>\n",
       "      <td>1</td>\n",
       "    </tr>\n",
       "    <tr>\n",
       "      <th>1</th>\n",
       "      <td>2016-01-02</td>\n",
       "      <td>2</td>\n",
       "      <td>1</td>\n",
       "    </tr>\n",
       "    <tr>\n",
       "      <th>2</th>\n",
       "      <td>2016-01-03</td>\n",
       "      <td>3</td>\n",
       "      <td>1</td>\n",
       "    </tr>\n",
       "    <tr>\n",
       "      <th>3</th>\n",
       "      <td>2016-01-04</td>\n",
       "      <td>1</td>\n",
       "      <td>0</td>\n",
       "    </tr>\n",
       "    <tr>\n",
       "      <th>4</th>\n",
       "      <td>2016-01-05</td>\n",
       "      <td>5</td>\n",
       "      <td>0</td>\n",
       "    </tr>\n",
       "  </tbody>\n",
       "</table>\n",
       "</div>"
      ],
      "text/plain": [
       "   visit_date  day_of_week  holiday_flg\n",
       "0  2016-01-01            0            1\n",
       "1  2016-01-02            2            1\n",
       "2  2016-01-03            3            1\n",
       "3  2016-01-04            1            0\n",
       "4  2016-01-05            5            0"
      ]
     },
     "execution_count": 25,
     "metadata": {},
     "output_type": "execute_result"
    }
   ],
   "source": [
    "data['hol'].head()"
   ]
  },
  {
   "cell_type": "code",
   "execution_count": 98,
   "metadata": {
    "collapsed": true
   },
   "outputs": [],
   "source": [
    "train = pd.merge(data['tra'], data['hol'], how='left', on=['visit_date'])\n",
    "test = pd.merge(data['tes'], data['hol'], how='left', on=['visit_date'])\n",
    "\n",
    "train = pd.merge(train, stores, how='left', on=['air_store_id', 'dow'])\n",
    "test = pd.merge(test, stores, how='left', on=['air_store_id', 'dow'])\n",
    "\n",
    "for df in ['ar', 'hr']:\n",
    "    train = pd.merge(\n",
    "        train, data[df], how='left', on=['air_store_id', 'visit_date'])\n",
    "    test = pd.merge(\n",
    "        test, data[df], how='left', on=['air_store_id', 'visit_date'])\n",
    "\n",
    "col = [\n",
    "    c for c in train\n",
    "    if c not in ['id', 'air_store_id', 'visit_date', 'visitors']\n",
    "]\n",
    "train = train.fillna(-1)\n",
    "test = test.fillna(-1)"
   ]
  },
  {
   "cell_type": "code",
   "execution_count": 99,
   "metadata": {},
   "outputs": [
    {
     "name": "stdout",
     "output_type": "stream",
     "text": [
      "Binding to float32\n"
     ]
    }
   ],
   "source": [
    "print('Binding to float32')\n",
    "\n",
    "for c, dtype in zip(train.columns, train.dtypes):\n",
    "    if dtype == np.float64:\n",
    "        train[c] = train[c].astype(np.float32)\n",
    "\n",
    "for c, dtype in zip(test.columns, test.dtypes):\n",
    "    if dtype == np.float64:\n",
    "        test[c] = test[c].astype(np.float32)"
   ]
  },
  {
   "cell_type": "code",
   "execution_count": 100,
   "metadata": {},
   "outputs": [
    {
     "name": "stdout",
     "output_type": "stream",
     "text": [
      "(252108, 20) (252108,)\n"
     ]
    }
   ],
   "source": [
    "train_x = train.drop(['air_store_id', 'visit_date', 'visitors'], axis=1)\n",
    "train_y = np.log1p(train['visitors'].values)\n",
    "print(train_x.shape, train_y.shape)"
   ]
  },
  {
   "cell_type": "code",
   "execution_count": 101,
   "metadata": {
    "collapsed": true
   },
   "outputs": [],
   "source": [
    "test_x = test.drop(['id', 'air_store_id', 'visit_date', 'visitors'], axis=1)"
   ]
  },
  {
   "cell_type": "code",
   "execution_count": 103,
   "metadata": {
    "collapsed": true
   },
   "outputs": [],
   "source": [
    "train_x = train_x.drop(['day_of_week', 'mode_visitors', 'day'], axis=1)"
   ]
  },
  {
   "cell_type": "code",
   "execution_count": 104,
   "metadata": {
    "collapsed": true
   },
   "outputs": [],
   "source": [
    "test_x = test_x.drop(['day_of_week', 'mode_visitors', 'day'], axis=1)"
   ]
  },
  {
   "cell_type": "code",
   "execution_count": 105,
   "metadata": {
    "collapsed": true
   },
   "outputs": [],
   "source": [
    "train_size = int(len(train_x) * 0.7)\n",
    "test_size = len(train_x) - train_size\n",
    "\n",
    "my_train_x = train_x[:train_size]\n",
    "my_train_y = train_y[:train_size]\n",
    "my_test_x  = train_x[train_size:]\n",
    "my_test_y = train_y[train_size:]"
   ]
  },
  {
   "cell_type": "code",
   "execution_count": 106,
   "metadata": {},
   "outputs": [
    {
     "data": {
      "text/plain": [
       "(176475, 16)"
      ]
     },
     "execution_count": 106,
     "metadata": {},
     "output_type": "execute_result"
    }
   ],
   "source": [
    "my_train.shape"
   ]
  },
  {
   "cell_type": "code",
   "execution_count": 107,
   "metadata": {
    "collapsed": true
   },
   "outputs": [],
   "source": [
    "# Submissions are evaluated using RMSLE:\n",
    "def RMSLE(y, pred):\n",
    "    return mean_squared_error(y, pred)**0.5"
   ]
  },
  {
   "cell_type": "code",
   "execution_count": 108,
   "metadata": {},
   "outputs": [
    {
     "name": "stderr",
     "output_type": "stream",
     "text": [
      "C:\\Users\\WillenZhang\\Miniconda3\\envs\\deep_learn_py3\\lib\\site-packages\\lightgbm\\basic.py:642: UserWarning: max_bin keyword has been found in `params` and will be ignored. Please use max_bin argument of the Dataset constructor to pass this parameter.\n",
      "  'Please use {0} argument of the Dataset constructor to pass this parameter.'.format(key))\n",
      "C:\\Users\\WillenZhang\\Miniconda3\\envs\\deep_learn_py3\\lib\\site-packages\\lightgbm\\basic.py:648: LGBMDeprecationWarning: The `max_bin` parameter is deprecated and will be removed in 2.0.12 version. Please use `params` to pass this parameter.\n",
      "  'Please use `params` to pass this parameter.', LGBMDeprecationWarning)\n"
     ]
    },
    {
     "data": {
      "text/plain": [
       "LGBMRegressor(boosting_type='gbdt', colsample_bytree=1.0, learning_rate=0.05,\n",
       "       max_bin=255, max_depth=-1, min_child_samples=20,\n",
       "       min_child_weight=0.001, min_split_gain=0.0, n_estimators=10000,\n",
       "       n_jobs=-1, num_leaves=31, objective='regression', random_state=None,\n",
       "       reg_alpha=0.0, reg_lambda=0.0, silent=True, subsample=1.0,\n",
       "       subsample_for_bin=200000, subsample_freq=1)"
      ]
     },
     "execution_count": 108,
     "metadata": {},
     "output_type": "execute_result"
    }
   ],
   "source": [
    "# parameter tuning of lightgbm\n",
    "# start from default setting\n",
    "gbm0 = lgb.LGBMRegressor(\n",
    "    objective='regression',\n",
    "    num_leaves=31,\n",
    "    learning_rate=0.05,\n",
    "    n_estimators=10000)\n",
    "gbm0.fit(my_train_x, my_train_y, eval_metric='rmse')"
   ]
  },
  {
   "cell_type": "code",
   "execution_count": 109,
   "metadata": {},
   "outputs": [
    {
     "name": "stdout",
     "output_type": "stream",
     "text": [
      "Test RMSLE: 0.504\n",
      "Train RMSLE: 0.417\n"
     ]
    }
   ],
   "source": [
    "my_test_predict_y = gbm0.predict(my_test_x)\n",
    "rmsle = RMSLE(my_test_y, my_test_predict_y)\n",
    "print('Test RMSLE: %.3f' % rmsle)\n",
    "my_train_predict_y = gbm0.predict(my_train_x)\n",
    "rmsle = RMSLE(my_train_y, my_train_predict_y)\n",
    "print('Train RMSLE: %.3f' % rmsle)"
   ]
  },
  {
   "cell_type": "code",
   "execution_count": 112,
   "metadata": {},
   "outputs": [
    {
     "name": "stderr",
     "output_type": "stream",
     "text": [
      "C:\\Users\\WillenZhang\\Miniconda3\\envs\\deep_learn_py3\\lib\\site-packages\\lightgbm\\sklearn.py:281: LGBMDeprecationWarning: The `nthread` parameter is deprecated and will be removed in 2.0.12 version. Please use `n_jobs` instead.\n",
      "  'Please use `n_jobs` instead.', LGBMDeprecationWarning)\n",
      "C:\\Users\\WillenZhang\\Miniconda3\\envs\\deep_learn_py3\\lib\\site-packages\\lightgbm\\basic.py:642: UserWarning: max_bin keyword has been found in `params` and will be ignored. Please use max_bin argument of the Dataset constructor to pass this parameter.\n",
      "  'Please use {0} argument of the Dataset constructor to pass this parameter.'.format(key))\n",
      "C:\\Users\\WillenZhang\\Miniconda3\\envs\\deep_learn_py3\\lib\\site-packages\\lightgbm\\basic.py:648: LGBMDeprecationWarning: The `max_bin` parameter is deprecated and will be removed in 2.0.12 version. Please use `params` to pass this parameter.\n",
      "  'Please use `params` to pass this parameter.', LGBMDeprecationWarning)\n",
      "C:\\Users\\WillenZhang\\Miniconda3\\envs\\deep_learn_py3\\lib\\site-packages\\lightgbm\\sklearn.py:281: LGBMDeprecationWarning: The `nthread` parameter is deprecated and will be removed in 2.0.12 version. Please use `n_jobs` instead.\n",
      "  'Please use `n_jobs` instead.', LGBMDeprecationWarning)\n"
     ]
    },
    {
     "data": {
      "text/plain": [
       "LGBMRegressor(boosting_type='gbdt', colsample_bytree=0.8, learning_rate=0.01,\n",
       "       max_bin=255, max_depth=13, min_child_samples=20, min_child_weight=1,\n",
       "       min_split_gain=0.0, n_estimators=10000, n_jobs=-1, nthread=7,\n",
       "       num_leaves=30, objective='regression', random_state=None,\n",
       "       reg_alpha=0.0, reg_lambda=0.5, silent=True, subsample=0.8,\n",
       "       subsample_for_bin=200000, subsample_freq=1)"
      ]
     },
     "execution_count": 112,
     "metadata": {},
     "output_type": "execute_result"
    }
   ],
   "source": [
    "# parameter tuning of lightgbm\n",
    "gbm1 = lgb.LGBMRegressor(\n",
    "        num_leaves = 30,\n",
    "        max_depth = 13,\n",
    "        learning_rate =0.01, \n",
    "        n_estimators = 10000, \n",
    "        objective = 'regression', \n",
    "        min_child_weight = 1, \n",
    "        subsample = 0.8,\n",
    "        colsample_bytree=0.8,\n",
    "        nthread = 7,\n",
    "        reg_lambda=0.5)\n",
    "gbm1.fit(my_train_x, my_train_y, eval_metric='rmse')"
   ]
  },
  {
   "cell_type": "code",
   "execution_count": 113,
   "metadata": {},
   "outputs": [
    {
     "name": "stdout",
     "output_type": "stream",
     "text": [
      "Test RMSLE: 0.494\n",
      "Train RMSLE: 0.464\n"
     ]
    }
   ],
   "source": [
    "my_test_predict_y = gbm1.predict(my_test_x)\n",
    "rmsle = RMSLE(my_test_y, my_test_predict_y)\n",
    "print('Test RMSLE: %.3f' % rmsle)\n",
    "my_train_predict_y = gbm1.predict(my_train_x)\n",
    "rmsle = RMSLE(my_train_y, my_train_predict_y)\n",
    "print('Train RMSLE: %.3f' % rmsle)"
   ]
  },
  {
   "cell_type": "code",
   "execution_count": 115,
   "metadata": {},
   "outputs": [
    {
     "name": "stderr",
     "output_type": "stream",
     "text": [
      "C:\\Users\\WillenZhang\\Miniconda3\\envs\\deep_learn_py3\\lib\\site-packages\\lightgbm\\sklearn.py:281: LGBMDeprecationWarning: The `nthread` parameter is deprecated and will be removed in 2.0.12 version. Please use `n_jobs` instead.\n",
      "  'Please use `n_jobs` instead.', LGBMDeprecationWarning)\n",
      "C:\\Users\\WillenZhang\\Miniconda3\\envs\\deep_learn_py3\\lib\\site-packages\\lightgbm\\basic.py:642: UserWarning: max_bin keyword has been found in `params` and will be ignored. Please use max_bin argument of the Dataset constructor to pass this parameter.\n",
      "  'Please use {0} argument of the Dataset constructor to pass this parameter.'.format(key))\n",
      "C:\\Users\\WillenZhang\\Miniconda3\\envs\\deep_learn_py3\\lib\\site-packages\\lightgbm\\basic.py:648: LGBMDeprecationWarning: The `max_bin` parameter is deprecated and will be removed in 2.0.12 version. Please use `params` to pass this parameter.\n",
      "  'Please use `params` to pass this parameter.', LGBMDeprecationWarning)\n"
     ]
    },
    {
     "name": "stdout",
     "output_type": "stream",
     "text": [
      "Test RMSLE: 0.503\n",
      "Train RMSLE: 0.424\n"
     ]
    }
   ],
   "source": [
    "# parameter tuning of lightgbm\n",
    "gbm2 = lgb.LGBMRegressor(\n",
    "        num_leaves = 31,\n",
    "        max_depth = 13,\n",
    "        learning_rate =0.05, \n",
    "        n_estimators = 10000, \n",
    "        objective = 'regression', \n",
    "        min_child_weight = 0.001, \n",
    "        subsample = 0.8,\n",
    "        colsample_bytree=0.8,\n",
    "        nthread = 7,\n",
    "        reg_lambda=0.05)\n",
    "gbm2.fit(my_train_x, my_train_y, eval_metric='rmse')\n",
    "\n",
    "my_test_predict_y = gbm2.predict(my_test_x)\n",
    "rmsle = RMSLE(my_test_y, my_test_predict_y)\n",
    "print('Test RMSLE: %.3f' % rmsle)\n",
    "my_train_predict_y = gbm2.predict(my_train_x)\n",
    "rmsle = RMSLE(my_train_y, my_train_predict_y)\n",
    "print('Train RMSLE: %.3f' % rmsle)"
   ]
  },
  {
   "cell_type": "code",
   "execution_count": 116,
   "metadata": {},
   "outputs": [
    {
     "name": "stderr",
     "output_type": "stream",
     "text": [
      "C:\\Users\\WillenZhang\\Miniconda3\\envs\\deep_learn_py3\\lib\\site-packages\\lightgbm\\sklearn.py:281: LGBMDeprecationWarning: The `nthread` parameter is deprecated and will be removed in 2.0.12 version. Please use `n_jobs` instead.\n",
      "  'Please use `n_jobs` instead.', LGBMDeprecationWarning)\n",
      "C:\\Users\\WillenZhang\\Miniconda3\\envs\\deep_learn_py3\\lib\\site-packages\\lightgbm\\basic.py:642: UserWarning: max_bin keyword has been found in `params` and will be ignored. Please use max_bin argument of the Dataset constructor to pass this parameter.\n",
      "  'Please use {0} argument of the Dataset constructor to pass this parameter.'.format(key))\n",
      "C:\\Users\\WillenZhang\\Miniconda3\\envs\\deep_learn_py3\\lib\\site-packages\\lightgbm\\basic.py:648: LGBMDeprecationWarning: The `max_bin` parameter is deprecated and will be removed in 2.0.12 version. Please use `params` to pass this parameter.\n",
      "  'Please use `params` to pass this parameter.', LGBMDeprecationWarning)\n"
     ]
    }
   ],
   "source": [
    "gbm1.fit(train_x, train_y, eval_metric='rmse')\n",
    "predict_y = gbm1.predict(test_x)"
   ]
  },
  {
   "cell_type": "code",
   "execution_count": 117,
   "metadata": {
    "collapsed": true
   },
   "outputs": [],
   "source": [
    "predict_y[predict_y<0] = 0"
   ]
  },
  {
   "cell_type": "code",
   "execution_count": 120,
   "metadata": {},
   "outputs": [
    {
     "name": "stdout",
     "output_type": "stream",
     "text": [
      "0.657599841078\n",
      "130.888205035\n",
      "17.6505965875\n"
     ]
    },
    {
     "data": {
      "text/plain": [
       "0     1.640625\n",
       "1    19.210160\n",
       "2    22.160179\n",
       "3    27.278195\n",
       "4    29.357224\n",
       "Name: visitors, dtype: float64"
      ]
     },
     "execution_count": 120,
     "metadata": {},
     "output_type": "execute_result"
    }
   ],
   "source": [
    "test['visitors'] =np.expm1(predict_y)\n",
    "#test['visitors'] = np.ceil(np.expm1(predict_y))\n",
    "print(test['visitors'].min())\n",
    "print(test['visitors'].max())\n",
    "print(test['visitors'].mean())\n",
    "test['visitors'].head()"
   ]
  },
  {
   "cell_type": "code",
   "execution_count": 121,
   "metadata": {
    "collapsed": true
   },
   "outputs": [],
   "source": [
    "#test['visitors'] = np.around(np.expm1(predict_y))\n",
    "test[['id', 'visitors']].to_csv(\n",
    "    'gbm0_submission_ceil_willen.csv', index=False, float_format='%.3f')"
   ]
  }
 ],
 "metadata": {
  "kernelspec": {
   "display_name": "Python 3",
   "language": "python",
   "name": "python3"
  },
  "language_info": {
   "codemirror_mode": {
    "name": "ipython",
    "version": 3
   },
   "file_extension": ".py",
   "mimetype": "text/x-python",
   "name": "python",
   "nbconvert_exporter": "python",
   "pygments_lexer": "ipython3",
   "version": "3.5.4"
  }
 },
 "nbformat": 4,
 "nbformat_minor": 2
}
