{
 "cells": [
  {
   "cell_type": "code",
   "execution_count": 1,
   "metadata": {
    "collapsed": true
   },
   "outputs": [],
   "source": [
    "import pandas as pd # data processing, CSV file I/O (e.g. pd.read_csv)"
   ]
  },
  {
   "cell_type": "code",
   "execution_count": 3,
   "metadata": {
    "collapsed": true
   },
   "outputs": [],
   "source": [
    "# Ensemble of two public kernels\n",
    "# For the median-based kernel, I add a multiplier of 0.95 to the original result.\n",
    "# Median-based from Paulo Pinto: https://www.kaggle.com/paulorzp/log-ma-and-days-of-week-means-lb-0-529\n",
    "# LGBM from Ceshine Lee: https://www.kaggle.com/ceshine/lgbm-starter\n",
    "\n",
    "filelist = ['./Surprise2.csv', './sub_hrm_mean.csv']\n",
    "\n",
    "outs = [pd.read_csv(f, index_col=0) for f in filelist]\n",
    "concat_df = pd.concat(outs, axis=1)\n",
    "concat_df.columns = ['submission1', 'submission2']\n",
    "#concat_df[\"visitors\"] = concat_df.mean(axis=1)\n",
    "concat_df[\"visitors\"] = ((concat_df['submission1']*.85) + (concat_df['submission2']*.15)*1.15) \n",
    "#concat_df[\"visitors\"] = concat_df['submission1']\n",
    "concat_df[[\"visitors\"]].to_csv(\"my_ensemble.csv\")"
   ]
  }
 ],
 "metadata": {
  "kernelspec": {
   "display_name": "Python 3",
   "language": "python",
   "name": "python3"
  },
  "language_info": {
   "codemirror_mode": {
    "name": "ipython",
    "version": 3
   },
   "file_extension": ".py",
   "mimetype": "text/x-python",
   "name": "python",
   "nbconvert_exporter": "python",
   "pygments_lexer": "ipython3",
   "version": "3.5.4"
  }
 },
 "nbformat": 4,
 "nbformat_minor": 2
}
